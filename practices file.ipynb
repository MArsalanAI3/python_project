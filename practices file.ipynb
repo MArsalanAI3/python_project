{
 "cells": [
  {
   "cell_type": "markdown",
   "metadata": {},
   "source": [
    "# parctice \n"
   ]
  },
  {
   "cell_type": "code",
   "execution_count": 14,
   "metadata": {},
   "outputs": [
    {
     "name": "stdout",
     "output_type": "stream",
     "text": [
      "hello, world!\n"
     ]
    }
   ],
   "source": [
    "print (\"hello, world!\")"
   ]
  },
  {
   "cell_type": "code",
   "execution_count": 29,
   "metadata": {},
   "outputs": [
    {
     "name": "stdout",
     "output_type": "stream",
     "text": [
      "My Name is ALI\n",
      "I am 18 Years old \n",
      "I am Doing MBA From SSUET \n",
      "I Want To BE A Good Programer In Future! InshaAllah\n"
     ]
    }
   ],
   "source": [
    "name = \"ALI\"\n",
    "print(\"My Name is \" + name)\n",
    "age = \"18\"\n",
    "print(\"I am \" + age + \" Years old \")\n",
    "edu = \"MBA\"\n",
    "print(\"I am Doing \" + edu + \" From SSUET \")\n",
    "print(\"I Want To BE A Good Programer In Future! InshaAllah\")\n"
   ]
  },
  {
   "cell_type": "code",
   "execution_count": 19,
   "metadata": {},
   "outputs": [
    {
     "name": "stdout",
     "output_type": "stream",
     "text": [
      "Arsalan\n"
     ]
    }
   ],
   "source": [
    "name = \"Arsalan\"\n",
    "print ( name )"
   ]
  },
  {
   "cell_type": "code",
   "execution_count": 33,
   "metadata": {},
   "outputs": [
    {
     "name": "stdout",
     "output_type": "stream",
     "text": [
      " what is your age? 15\n",
      " what is your name? Arsalan\n",
      " what is your qualification? BSCS\n",
      " where do you live? Karachi\n"
     ]
    }
   ],
   "source": [
    "age = input (\" what is your age? \")\n",
    "name = input (\" what is your name? \")\n",
    "qualification = input (\" what is your qualification? \")\n",
    "live = input (\" where do you live? \")"
   ]
  },
  {
   "cell_type": "code",
   "execution_count": 54,
   "metadata": {},
   "outputs": [
    {
     "name": "stdout",
     "output_type": "stream",
     "text": [
      "7.199999999999999\n"
     ]
    }
   ],
   "source": [
    "x = 6 * 2 - 8.8\n",
    "y = 8 / 4 - 2\n",
    "total = x +  4 + y\n",
    "print (total)\n",
    "\n"
   ]
  },
  {
   "cell_type": "code",
   "execution_count": 71,
   "metadata": {},
   "outputs": [
    {
     "name": "stdout",
     "output_type": "stream",
     "text": [
      "190\n"
     ]
    }
   ],
   "source": [
    "x = (24 + 6) * 6 + 9 + 1   \n",
    "print (x)"
   ]
  },
  {
   "cell_type": "code",
   "execution_count": 74,
   "metadata": {},
   "outputs": [
    {
     "name": "stdout",
     "output_type": "stream",
     "text": [
      "!\n"
     ]
    }
   ],
   "source": [
    "\n",
    "print (\"!\")"
   ]
  },
  {
   "cell_type": "code",
   "execution_count": 20,
   "metadata": {},
   "outputs": [
    {
     "name": "stdout",
     "output_type": "stream",
     "text": [
      "33\n",
      "PYTHON FOR BEGINNERS PROGRAMMERS \n",
      "python for beginners programmers \n",
      "python for absolute Beginners programmers \n",
      "True\n",
      "Python For Beginners Programmers \n"
     ]
    }
   ],
   "source": [
    "course = 'python for beginners programmers '\n",
    "print(len(course))\n",
    "print(course.upper())\n",
    "print(course)\n",
    "print(course.replace('beginners','absolute Beginners'))\n",
    "print('python' in course)\n",
    "print(course.title())\n"
   ]
  },
  {
   "cell_type": "code",
   "execution_count": 28,
   "metadata": {},
   "outputs": [
    {
     "name": "stdout",
     "output_type": "stream",
     "text": [
      "100\n"
     ]
    }
   ],
   "source": [
    " print(10 ** 2)"
   ]
  },
  {
   "cell_type": "code",
   "execution_count": 52,
   "metadata": {},
   "outputs": [
    {
     "name": "stdout",
     "output_type": "stream",
     "text": [
      "3\n"
     ]
    }
   ],
   "source": [
    "import math\n",
    "#x=(10+3)*2**2/-3\n",
    "#print(round(x))\n",
    "print(math.ceil(2.9))\n",
    "# parenthesis\n",
    "# exponentiation 2**8\n",
    "# multiplication or division\n",
    "# addition or subtraction"
   ]
  },
  {
   "cell_type": "code",
   "execution_count": 56,
   "metadata": {},
   "outputs": [
    {
     "name": "stdout",
     "output_type": "stream",
     "text": [
      "it's is a hot day\n"
     ]
    }
   ],
   "source": [
    "# print('it's is a hot day')\n",
    "print(\"it's is a hot day\")"
   ]
  },
  {
   "cell_type": "code",
   "execution_count": 68,
   "metadata": {},
   "outputs": [
    {
     "name": "stdout",
     "output_type": "stream",
     "text": [
      "It's a Lovely day\n",
      "enjoy your's day baby\n"
     ]
    }
   ],
   "source": [
    "is_hot = False\n",
    "is_cold = False\n",
    "\n",
    "if is_hot:\n",
    "    print(\"it's a hot day\")\n",
    "    print(\"Drink pleanty of water\")\n",
    "elif is_cold:\n",
    "    print(\"it is a cold day\")\n",
    "    print(\"Wear warm clothes\")\n",
    "else:\n",
    "    print(\"It's a Lovely day\")\n",
    "print(\"enjoy your's day baby\")\n",
    "    \n"
   ]
  },
  {
   "cell_type": "code",
   "execution_count": 11,
   "metadata": {},
   "outputs": [
    {
     "ename": "SyntaxError",
     "evalue": "invalid syntax (<ipython-input-11-8536eddeb7dd>, line 5)",
     "output_type": "error",
     "traceback": [
      "\u001b[1;36m  File \u001b[1;32m\"<ipython-input-11-8536eddeb7dd>\"\u001b[1;36m, line \u001b[1;32m5\u001b[0m\n\u001b[1;33m    def sub:\u001b[0m\n\u001b[1;37m           ^\u001b[0m\n\u001b[1;31mSyntaxError\u001b[0m\u001b[1;31m:\u001b[0m invalid syntax\n"
     ]
    }
   ],
   "source": [
    "num1=input('enter the first number ')\n",
    "num2=input('enter the second number ')\n",
    "def add(x,y):\n",
    "    return x+y\n",
    "def sub:\n",
    "    return x-y\n",
    "def multi(x,y):\n",
    "    return x*y\n",
    "def div(x,y):\n",
    "    return x/y\n",
    "print(\"select the operator.\")\n",
    "print(\"1.add\")\n",
    "print(\"1.sub\")\n",
    "print(\"1.multi\")\n",
    "print(\"1.div\")\n"
   ]
  },
  {
   "cell_type": "code",
   "execution_count": 14,
   "metadata": {},
   "outputs": [
    {
     "name": "stdout",
     "output_type": "stream",
     "text": [
      "enter your name Muhammad Arsalan\n",
      "names look good\n"
     ]
    }
   ],
   "source": [
    "name =input(\"enter your name \")\n",
    "if len(name)< 3:\n",
    "    print(\"name must be at least 3 characters \")\n",
    "elif len(name)>50:\n",
    "    print(\"name must be a maximum 50 characters \")\n",
    "else:\n",
    "    print(\"names look good\")"
   ]
  },
  {
   "cell_type": "code",
   "execution_count": null,
   "metadata": {},
   "outputs": [],
   "source": []
  },
  {
   "cell_type": "code",
   "execution_count": 20,
   "metadata": {},
   "outputs": [
    {
     "name": "stdout",
     "output_type": "stream",
     "text": [
      "weight:160\n",
      "(L)bs or (k)g:k\n",
      "you are 355.55555555555554 pound\n"
     ]
    }
   ],
   "source": [
    "weight =int(input('weight:'))\n",
    "unit =input('(L)bs or (k)g:')\n",
    "if unit.upper() == \"L\":\n",
    "    converted = weight*0.45\n",
    "    print(f\"you are {converted} kilos\")\n",
    "else:\n",
    "    converted=weight/0.45\n",
    "    print(f\"you are {converted} pound\")"
   ]
  },
  {
   "cell_type": "code",
   "execution_count": 4,
   "metadata": {},
   "outputs": [
    {
     "name": "stdout",
     "output_type": "stream",
     "text": [
      "enter any task do you perform into whole day of Ramzan take rest\n"
     ]
    },
    {
     "ename": "NameError",
     "evalue": "name 'task_select' is not defined",
     "output_type": "error",
     "traceback": [
      "\u001b[1;31m---------------------------------------------------------------------------\u001b[0m",
      "\u001b[1;31mNameError\u001b[0m                                 Traceback (most recent call last)",
      "\u001b[1;32m<ipython-input-4-06882c5d1156>\u001b[0m in \u001b[0;36m<module>\u001b[1;34m\u001b[0m\n\u001b[0;32m      2\u001b[0m \u001b[0mempty_list\u001b[0m\u001b[1;33m=\u001b[0m\u001b[1;33m[\u001b[0m\u001b[1;33m]\u001b[0m\u001b[1;33m\u001b[0m\u001b[1;33m\u001b[0m\u001b[0m\n\u001b[0;32m      3\u001b[0m \u001b[0mtask_list\u001b[0m\u001b[1;33m=\u001b[0m\u001b[0minput\u001b[0m\u001b[1;33m(\u001b[0m\u001b[1;34m\"enter any task do you perform into whole day of Ramzan \"\u001b[0m\u001b[1;33m)\u001b[0m\u001b[1;33m.\u001b[0m\u001b[0mlower\u001b[0m\u001b[1;33m(\u001b[0m\u001b[1;33m)\u001b[0m\u001b[1;33m\u001b[0m\u001b[1;33m\u001b[0m\u001b[0m\n\u001b[1;32m----> 4\u001b[1;33m \u001b[1;32mif\u001b[0m \u001b[0mtask_select\u001b[0m \u001b[1;32min\u001b[0m \u001b[0mtask_list\u001b[0m\u001b[1;33m:\u001b[0m\u001b[1;33m\u001b[0m\u001b[1;33m\u001b[0m\u001b[0m\n\u001b[0m\u001b[0;32m      5\u001b[0m     \u001b[0mstore_task\u001b[0m\u001b[1;33m=\u001b[0m\u001b[0mtask_list\u001b[0m\u001b[1;33m.\u001b[0m\u001b[0mindex\u001b[0m\u001b[1;33m(\u001b[0m\u001b[0mtask_select\u001b[0m\u001b[1;33m)\u001b[0m\u001b[1;33m\u001b[0m\u001b[1;33m\u001b[0m\u001b[0m\n\u001b[0;32m      6\u001b[0m     \u001b[0mtask_list\u001b[0m\u001b[1;33m.\u001b[0m\u001b[0mpop\u001b[0m\u001b[1;33m(\u001b[0m\u001b[0mstore_task\u001b[0m\u001b[1;33m)\u001b[0m\u001b[1;33m\u001b[0m\u001b[1;33m\u001b[0m\u001b[0m\n",
      "\u001b[1;31mNameError\u001b[0m: name 'task_select' is not defined"
     ]
    }
   ],
   "source": [
    "task_list=['keep fast','take rest','pray namaz','take iftar','perform tarawe']\n",
    "empty_list=[]\n",
    "task_list=input(\"enter any task do you perform into whole day of Ramzan \").lower()\n",
    "if task_select in task_list:\n",
    "    store_task=task_list.index(task_select)\n",
    "    task_list.pop(store_task)\n",
    "    empty_list.append(task_select)\n",
    "    print(f\"your remaining task is:,{task_list}\")\n",
    "    print(f\"your completed task:{empty_list}\")\n",
    "else:\n",
    "    print(\"your task is not in list\")"
   ]
  },
  {
   "cell_type": "code",
   "execution_count": null,
   "metadata": {},
   "outputs": [],
   "source": []
  }
 ],
 "metadata": {
  "kernelspec": {
   "display_name": "Python 3",
   "language": "python",
   "name": "python3"
  },
  "language_info": {
   "codemirror_mode": {
    "name": "ipython",
    "version": 3
   },
   "file_extension": ".py",
   "mimetype": "text/x-python",
   "name": "python",
   "nbconvert_exporter": "python",
   "pygments_lexer": "ipython3",
   "version": "3.7.3"
  }
 },
 "nbformat": 4,
 "nbformat_minor": 2
}
