{
 "cells": [
  {
   "cell_type": "markdown",
   "metadata": {},
   "source": [
    "# Q1:"
   ]
  },
  {
   "cell_type": "markdown",
   "metadata": {},
   "source": [
    "Think of at least three kinds of your favorite pizza. Store these pizza names in a list, and then use a for loop to print the name of each pizza."
   ]
  },
  {
   "cell_type": "code",
   "execution_count": 56,
   "metadata": {},
   "outputs": [],
   "source": [
    "Pizza = ['BBQ Pizza','Chicken Tikka Pizza','Fajita Pizza']"
   ]
  },
  {
   "cell_type": "code",
   "execution_count": 57,
   "metadata": {},
   "outputs": [
    {
     "name": "stdout",
     "output_type": "stream",
     "text": [
      "BBQ Pizza\n",
      "Chicken Tikka Pizza\n",
      "Fajita Pizza\n"
     ]
    }
   ],
   "source": [
    "for pizza in Pizza:\n",
    "    print(pizza)"
   ]
  },
  {
   "cell_type": "markdown",
   "metadata": {},
   "source": [
    "# Q2"
   ]
  },
  {
   "cell_type": "markdown",
   "metadata": {},
   "source": [
    "Start with your last question , Modify your for loop to print a sentence using the name of the pizza\n",
    "instead of printing just the name of the pizza. For each pizza you should\n",
    "have one line of output containing a simple statement like I like pepperoni\n",
    "pizza."
   ]
  },
  {
   "cell_type": "code",
   "execution_count": 58,
   "metadata": {},
   "outputs": [
    {
     "name": "stdout",
     "output_type": "stream",
     "text": [
      "i like BBQ Pizza pizza\n",
      "i like Chicken Tikka Pizza pizza\n",
      "i like Fajita Pizza pizza\n"
     ]
    }
   ],
   "source": [
    "for pizza in Pizza:\n",
    "    print(\"i like \" + pizza +\" pizza\" )"
   ]
  },
  {
   "cell_type": "markdown",
   "metadata": {},
   "source": [
    "# Q3:"
   ]
  },
  {
   "cell_type": "markdown",
   "metadata": {},
   "source": [
    "Use a for loop to print the numbers from 1 to 20,\n",
    "inclusive."
   ]
  },
  {
   "cell_type": "code",
   "execution_count": 54,
   "metadata": {},
   "outputs": [
    {
     "name": "stdout",
     "output_type": "stream",
     "text": [
      "1\n",
      "2\n",
      "3\n",
      "4\n",
      "5\n",
      "6\n",
      "7\n",
      "8\n",
      "9\n",
      "10\n",
      "11\n",
      "12\n",
      "13\n",
      "14\n",
      "15\n",
      "16\n",
      "17\n",
      "18\n",
      "19\n",
      "20\n"
     ]
    }
   ],
   "source": [
    "for i in range(1,21):\n",
    "    print(i)"
   ]
  },
  {
   "cell_type": "markdown",
   "metadata": {},
   "source": [
    "# Q4:"
   ]
  },
  {
   "cell_type": "markdown",
   "metadata": {},
   "source": [
    "Use the third argument of the range() function to make a list\n",
    "of the odd numbers from 1 to 20. Use a for loop to print each number."
   ]
  },
  {
   "cell_type": "code",
   "execution_count": 53,
   "metadata": {},
   "outputs": [],
   "source": [
    "li=list(range(1,21,2))"
   ]
  },
  {
   "cell_type": "code",
   "execution_count": 51,
   "metadata": {},
   "outputs": [
    {
     "name": "stdout",
     "output_type": "stream",
     "text": [
      "[1, 3, 5, 7, 9, 11, 13, 15, 17, 19]\n"
     ]
    }
   ],
   "source": [
    "print(li)"
   ]
  },
  {
   "cell_type": "code",
   "execution_count": 52,
   "metadata": {},
   "outputs": [
    {
     "name": "stdout",
     "output_type": "stream",
     "text": [
      "1\n",
      "3\n",
      "5\n",
      "7\n",
      "9\n",
      "11\n",
      "13\n",
      "15\n",
      "17\n",
      "19\n"
     ]
    }
   ],
   "source": [
    "for odd in li:\n",
    "    print(odd)"
   ]
  },
  {
   "cell_type": "markdown",
   "metadata": {},
   "source": [
    "# Q5:"
   ]
  },
  {
   "cell_type": "markdown",
   "metadata": {},
   "source": [
    "Make a list of the multiples of 3 from 3 to 30. Use a for loop to\n",
    "print the numbers in your list."
   ]
  },
  {
   "cell_type": "code",
   "execution_count": 48,
   "metadata": {},
   "outputs": [],
   "source": [
    "table_3 =[3,6,9,12,15,18,21,24,27,30]"
   ]
  },
  {
   "cell_type": "code",
   "execution_count": 49,
   "metadata": {},
   "outputs": [
    {
     "name": "stdout",
     "output_type": "stream",
     "text": [
      "3\n",
      "6\n",
      "9\n",
      "12\n",
      "15\n",
      "18\n",
      "21\n",
      "24\n",
      "27\n",
      "30\n"
     ]
    }
   ],
   "source": [
    "for table in table_3:\n",
    "    print(table)"
   ]
  },
  {
   "cell_type": "markdown",
   "metadata": {},
   "source": [
    "# Q6:"
   ]
  },
  {
   "cell_type": "markdown",
   "metadata": {},
   "source": [
    "A number raised to the third power is called a cube. For example,\n",
    "the cube of 2 is written as 2**3 in Python. Make a list of the first 10 cubes (that\n",
    "is, the cube of each integer from 1 through 10), and use a for loop to print out\n",
    "the value of each cube"
   ]
  },
  {
   "cell_type": "code",
   "execution_count": 46,
   "metadata": {},
   "outputs": [],
   "source": [
    "power = [1**3,2**3,4**3,5**3,6**3,7**3,8**3,9**3,10**3]"
   ]
  },
  {
   "cell_type": "code",
   "execution_count": 47,
   "metadata": {},
   "outputs": [
    {
     "name": "stdout",
     "output_type": "stream",
     "text": [
      "1\n",
      "8\n",
      "64\n",
      "125\n",
      "216\n",
      "343\n",
      "512\n",
      "729\n",
      "1000\n"
     ]
    }
   ],
   "source": [
    "for cube in power:\n",
    "    print(cube)"
   ]
  },
  {
   "cell_type": "markdown",
   "metadata": {},
   "source": [
    "# Q7:"
   ]
  },
  {
   "cell_type": "markdown",
   "metadata": {},
   "source": [
    "###### Make a python program that conatains your nine favourite dishes in a list called foods.\n",
    "\n",
    "###### Print the message, The first three items in the list are:. \n",
    "###### Then use a slice to print the first three items from that program’s list.\n",
    "\n",
    "###### Print the message, Three items from the middle of the list are:\n",
    "###### Use a slice to print three items from the middle of the list.\n",
    "\n",
    "###### Print the message, The last three items in the list are:\n",
    "###### Use a slice to print the last three items in the list."
   ]
  },
  {
   "cell_type": "code",
   "execution_count": 43,
   "metadata": {},
   "outputs": [
    {
     "name": "stdout",
     "output_type": "stream",
     "text": [
      "The first three items in the list :\n",
      "biryani\n",
      "pulao\n",
      "chicken tikka\n",
      "The three middle items in the list:\n",
      "white karahi\n",
      "paya\n",
      "haleem\n",
      "The Last Three items in list:\n",
      "katakat\n",
      "Qeema\n",
      "Kofta\n",
      "Dall Chawal\n"
     ]
    }
   ],
   "source": [
    "food = ['biryani','pulao','chicken tikka','white karahi','paya','haleem','katakat','Qeema','Kofta','Dall Chawal']\n",
    "print('The first three items in the list :')\n",
    "for dish in food[0:3]:\n",
    "    print(dish)\n",
    "print('The three middle items in the list:')\n",
    "for dish in food[3:6]:\n",
    "    print(dish)\n",
    "print('The Last Three items in list:')\n",
    "for dish in food[6:10]:\n",
    "    print(dish)"
   ]
  },
  {
   "cell_type": "markdown",
   "metadata": {},
   "source": [
    "# Q8:"
   ]
  },
  {
   "cell_type": "markdown",
   "metadata": {},
   "source": [
    "### Start with your program from your last Question8.\n",
    "###### Make a copy of the list of foods, and call it friend_foods.\n",
    "###### Then, do the following:\n",
    "######    Add a new dish to the original list.\n",
    "######    Add a different dish to the list friend_foodss.\n",
    "######    Prove that you have two separate lists. \n",
    "###### Print the message, My favorite pizzas are: and then use a for loop to print the first list. \n",
    "###### Print the message,\n",
    "###### My friend’s favorite foods are:, and then use a for loop to print the second list.\n",
    "    \n",
    "##### NOTE: Make sure each new dish is stored in the appropriate list."
   ]
  },
  {
   "cell_type": "code",
   "execution_count": 45,
   "metadata": {},
   "outputs": [
    {
     "name": "stdout",
     "output_type": "stream",
     "text": [
      "My favourite food are:\n",
      "biryani\n",
      "pulao\n",
      "chicken tikka\n",
      "white karahi\n",
      "paya\n",
      "haleem\n",
      "katakat\n",
      "Qeema\n",
      "Kofta\n",
      "Dall Chawal\n",
      "Malai Boti\n",
      "Malai Boti\n",
      "My friend's favourite food are\n",
      "biryani\n",
      "pulao\n",
      "chicken tikka\n",
      "white karahi\n",
      "paya\n",
      "haleem\n",
      "katakat\n",
      "Qeema\n",
      "Kofta\n",
      "Dall Chawal\n",
      "Malai Boti\n",
      "chicken tikka\n"
     ]
    }
   ],
   "source": [
    "friends_food = food.copy()\n",
    "friends_food\n",
    "food.append('Malai Boti')\n",
    "friends_food.append('chicken tikka')\n",
    "print('My favourite food are:')\n",
    "for dish in food:\n",
    "    print(dish)\n",
    "    \n",
    "print(\"My friend's favourite food are\")\n",
    "for frnd_dish in friends_food:\n",
    "    print(frnd_dish)"
   ]
  },
  {
   "cell_type": "markdown",
   "metadata": {},
   "source": [
    "# Q9:"
   ]
  },
  {
   "cell_type": "markdown",
   "metadata": {},
   "source": [
    "Take a user input from console line.Store it in a variable called Alien_color.\n",
    "\n",
    "If the alien’s color is red, print a statement that the player just earned 5 points for shooting the alien.\n",
    "\n",
    "If the alien’s color isn’t green, print a statement that the player just earned 10 points.\n",
    "\n",
    "If the alien's color isn't red or green , print a statment :, Alien is no more....."
   ]
  },
  {
   "cell_type": "code",
   "execution_count": 59,
   "metadata": {},
   "outputs": [
    {
     "name": "stdout",
     "output_type": "stream",
     "text": [
      "Enter Alien_color:  Red\n",
      "The player just earned 5 points for shooting the alien.\n"
     ]
    }
   ],
   "source": [
    "Alien_color=input('Enter Alien_color:  ')\n",
    "Alien_color=Alien_color.title()\n",
    "if Alien_color =='Red':\n",
    "    print('The player just earned 5 points for shooting the alien.')\n",
    "elif Alien_color =='Green':\n",
    "    print('The player just earned 5 points for shooting the alien.')\n",
    "else:\n",
    "    print('Alien is no more.....')"
   ]
  },
  {
   "cell_type": "code",
   "execution_count": 60,
   "metadata": {},
   "outputs": [
    {
     "name": "stdout",
     "output_type": "stream",
     "text": [
      "Enter Alien_color:  Green\n",
      "The player just earned 5 points for shooting the alien.\n"
     ]
    }
   ],
   "source": [
    "Alien_color=input('Enter Alien_color:  ')\n",
    "Alien_color=Alien_color.title()\n",
    "if Alien_color =='Red':\n",
    "    print('The player just earned 5 points for shooting the alien.')\n",
    "elif Alien_color =='Green':\n",
    "    print('The player just earned 5 points for shooting the alien.')\n",
    "else:\n",
    "    print('Alien is no more.....')"
   ]
  },
  {
   "cell_type": "code",
   "execution_count": 61,
   "metadata": {},
   "outputs": [
    {
     "name": "stdout",
     "output_type": "stream",
     "text": [
      "Enter Alien_color:  White\n",
      "Alien is no more.....\n"
     ]
    }
   ],
   "source": [
    "Alien_color=input('Enter Alien_color:  ')\n",
    "Alien_color=Alien_color.title()\n",
    "if Alien_color =='Red':\n",
    "    print('The player just earned 5 points for shooting the alien.')\n",
    "elif Alien_color =='Green':\n",
    "    print('The player just earned 5 points for shooting the alien.')\n",
    "else:\n",
    "    print('Alien is no more.....')"
   ]
  },
  {
   "cell_type": "markdown",
   "metadata": {},
   "source": [
    "# Q10:"
   ]
  },
  {
   "cell_type": "markdown",
   "metadata": {},
   "source": [
    "Write an if-elif-else chain that determines a person’s\n",
    "stage of life. Set a value for the variable age, and then:\n",
    "    \n",
    "•\t If the person is less than 2 years old, print a message that the person is a baby.\n",
    "\n",
    "•\t If the person is at least 2 years old but less than 4, print a message that the person is a toddler.\n",
    "\n",
    "•\t If the person is at least 4 years old but less than 13, print a message that the person is a kid.\n",
    "\n",
    "•\t If the person is at least 13 years old but less than 20, print a message that the person is a teenager.\n",
    "\n",
    "•\t If the person is at least 20 years old but less than 65, print a message that the person is an adult.\n",
    "\n",
    "•\t If the person is age 65 or older, print a message that the person is an elder."
   ]
  },
  {
   "cell_type": "code",
   "execution_count": 29,
   "metadata": {},
   "outputs": [
    {
     "name": "stdout",
     "output_type": "stream",
     "text": [
      "The person is a baby\n"
     ]
    }
   ],
   "source": [
    "age = 1\n",
    "if age < 2:\n",
    "    print('The person is a baby')\n",
    "elif age < 4:\n",
    "    print('The person is a toddler')\n",
    "elif age < 13:\n",
    "    print('The person is a kid')\n",
    "elif age < 20:\n",
    "    print('The person is a teenager')\n",
    "elif age < 65:\n",
    "    print('The person is a adult')\n",
    "else:\n",
    "    print('The person is a Elder')"
   ]
  },
  {
   "cell_type": "code",
   "execution_count": 30,
   "metadata": {},
   "outputs": [
    {
     "name": "stdout",
     "output_type": "stream",
     "text": [
      "The person is a toddler\n"
     ]
    }
   ],
   "source": [
    "age = 3\n",
    "if age < 2:\n",
    "    print('The person is a baby')\n",
    "elif age < 4:\n",
    "    print('The person is a toddler')\n",
    "elif age < 13:\n",
    "    print('The person is a kid')\n",
    "elif age < 20:\n",
    "    print('The person is a teenager')\n",
    "elif age < 65:\n",
    "    print('The person is a adult')\n",
    "else:\n",
    "    print('The person is a Elder')"
   ]
  },
  {
   "cell_type": "code",
   "execution_count": 31,
   "metadata": {},
   "outputs": [
    {
     "name": "stdout",
     "output_type": "stream",
     "text": [
      "The person is a kid\n"
     ]
    }
   ],
   "source": [
    "age = 7\n",
    "if age < 2:\n",
    "    print('The person is a baby')\n",
    "elif age < 4:\n",
    "    print('The person is a toddler')\n",
    "elif age < 13:\n",
    "    print('The person is a kid')\n",
    "elif age < 20:\n",
    "    print('The person is a teenager')\n",
    "elif age < 65:\n",
    "    print('The person is a adult')\n",
    "else:\n",
    "    print('The person is a Elder')"
   ]
  },
  {
   "cell_type": "code",
   "execution_count": 32,
   "metadata": {},
   "outputs": [
    {
     "name": "stdout",
     "output_type": "stream",
     "text": [
      "The person is a teenager\n"
     ]
    }
   ],
   "source": [
    "age = 17\n",
    "if age < 2:\n",
    "    print('The person is a baby')\n",
    "elif age < 4:\n",
    "    print('The person is a toddler')\n",
    "elif age < 13:\n",
    "    print('The person is a kid')\n",
    "elif age < 20:\n",
    "    print('The person is a teenager')\n",
    "elif age < 65:\n",
    "    print('The person is a adult')\n",
    "else:\n",
    "    print('The person is a Elder')"
   ]
  },
  {
   "cell_type": "code",
   "execution_count": 33,
   "metadata": {},
   "outputs": [
    {
     "name": "stdout",
     "output_type": "stream",
     "text": [
      "The person is a adult\n"
     ]
    }
   ],
   "source": [
    "age = 45\n",
    "if age < 2:\n",
    "    print('The person is a baby')\n",
    "elif age < 4:\n",
    "    print('The person is a toddler')\n",
    "elif age < 13:\n",
    "    print('The person is a kid')\n",
    "elif age < 20:\n",
    "    print('The person is a teenager')\n",
    "elif age < 65:\n",
    "    print('The person is a adult')\n",
    "else:\n",
    "    print('The person is a Elder')"
   ]
  },
  {
   "cell_type": "code",
   "execution_count": 34,
   "metadata": {},
   "outputs": [
    {
     "name": "stdout",
     "output_type": "stream",
     "text": [
      "The person is a Elder\n"
     ]
    }
   ],
   "source": [
    "age = 70\n",
    "if age < 2:\n",
    "    print('The person is a baby')\n",
    "elif age < 4:\n",
    "    print('The person is a toddler')\n",
    "elif age < 13:\n",
    "    print('The person is a kid')\n",
    "elif age < 20:\n",
    "    print('The person is a teenager')\n",
    "elif age < 65:\n",
    "    print('The person is a adult')\n",
    "else:\n",
    "    print('The person is a Elder')"
   ]
  },
  {
   "cell_type": "markdown",
   "metadata": {},
   "source": [
    "# Q11:"
   ]
  },
  {
   "cell_type": "markdown",
   "metadata": {},
   "source": [
    "Do the following to create a program that simulates how websites ensure that everyone has a unique username.\n",
    "\n",
    "•\t Make a list of five or more usernames called current_users.\n",
    "\n",
    "•\t Make another list of five usernames called new_users. \n",
    "Make sure one or two of the new usernames are also in the current_users list.\n",
    "\n",
    "•\t Loop through the new_users list to see if each new username has already been used. \n",
    "If it has, print a message that the person will need to enter a new username. \n",
    "If a username has not been used, print a message saying that the username is available.\n",
    "\n",
    "•\t Make sure your comparison is case insensitive. If 'John' has been used, 'JOHN' should not be accepted."
   ]
  },
  {
   "cell_type": "code",
   "execution_count": 24,
   "metadata": {},
   "outputs": [
    {
     "name": "stdout",
     "output_type": "stream",
     "text": [
      "great arsalan  name is still available:\n",
      "sorry kamran that name is already taken:\n",
      "sorry ahmed that name is already taken:\n",
      "great faraz  name is still available:\n",
      "great gul khan  name is still available:\n"
     ]
    }
   ],
   "source": [
    "current_users =['aisha','kamran','akmal','ahmed','nasir']\n",
    "new_users =['arsalan','kamran','ahmed','faraz','gul khan']\n",
    "current_user_lower =[users.lower() for users in current_users]\n",
    "for new_users in new_users:\n",
    "    if new_users.lower() in current_user_lower:\n",
    "        print('sorry '+ new_users +' that name is already taken:')\n",
    "    else:\n",
    "        print('great '+new_users+'  name is still available:')"
   ]
  },
  {
   "cell_type": "markdown",
   "metadata": {},
   "source": [
    "# Q12:"
   ]
  },
  {
   "cell_type": "markdown",
   "metadata": {},
   "source": [
    "Use a dictionary to store information about a person you know.\n",
    "Store their first name, last name, age, and the city in which they live. \n",
    "You should have keys such as first_name, last_name, age, and city. \n",
    "Print each piece of information stored in your dictionary"
   ]
  },
  {
   "cell_type": "code",
   "execution_count": 5,
   "metadata": {},
   "outputs": [
    {
     "name": "stdout",
     "output_type": "stream",
     "text": [
      "Arsalan\n",
      "A.Majeed\n",
      "20\n",
      "karachi\n"
     ]
    }
   ],
   "source": [
    "person = {'first_name' : 'Arsalan','last_name' : 'A.Majeed','age' : '20','city' : 'karachi'}\n",
    "print(person['first_name'])\n",
    "print(person['last_name'])\n",
    "print(person['age'])\n",
    "print(person['city'])\n"
   ]
  },
  {
   "cell_type": "markdown",
   "metadata": {},
   "source": [
    "# Q13:"
   ]
  },
  {
   "cell_type": "markdown",
   "metadata": {},
   "source": [
    "Starts with your last question 12 , loop through the dictionary’s keys and values.\n",
    "When you’re sure that your loop works, add five more Python terms to your\n",
    "dictionary . When you run your program again, these new words and meanings\n",
    "should automatically be included in the output."
   ]
  },
  {
   "cell_type": "code",
   "execution_count": 6,
   "metadata": {},
   "outputs": [
    {
     "name": "stdout",
     "output_type": "stream",
     "text": [
      "first_name:Arsalan\n",
      "last_name:A.Majeed\n",
      "age:20\n",
      "city:karachi\n"
     ]
    }
   ],
   "source": [
    "for key , value in person.items():\n",
    "    print(f'{key}:{value}')"
   ]
  },
  {
   "cell_type": "code",
   "execution_count": 7,
   "metadata": {},
   "outputs": [
    {
     "name": "stdout",
     "output_type": "stream",
     "text": [
      "first_name:Arsalan\n",
      "last_name:A.Majeed\n",
      "age:20\n",
      "city:karachi\n",
      "print:this function print Message\n",
      "if:Condition\n",
      "else:Another Condition\n",
      "for:Loop\n",
      "def:function\n"
     ]
    }
   ],
   "source": [
    "person['print']='this function print Message'\n",
    "person['if']='Condition'\n",
    "person['else']='Another Condition'\n",
    "person['for']='Loop'\n",
    "person['def']='function'\n",
    "for key, value in person.items():\n",
    "    print(f'{key}:{value}')"
   ]
  },
  {
   "cell_type": "markdown",
   "metadata": {},
   "source": [
    "# Q14:"
   ]
  },
  {
   "cell_type": "markdown",
   "metadata": {},
   "source": [
    "Make a dictionary containing three major rivers and the country\n",
    "each river runs through. One key-value pair might be 'nile': 'egypt'.\n",
    "    \n",
    "    \n",
    "•\t Use a loop to print a sentence about each river, such as The Nile runs\n",
    "through Egypt.\n",
    "\n",
    "NOTE: use upper case through keys and values."
   ]
  },
  {
   "cell_type": "code",
   "execution_count": 19,
   "metadata": {},
   "outputs": [
    {
     "name": "stdout",
     "output_type": "stream",
     "text": [
      "The NILE runs through EGYPT\n",
      "The LENA runs through RUSSIA\n",
      "The INDUS runs through PAKISTAN\n"
     ]
    }
   ],
   "source": [
    "river={'nile':'Egypt','lena':'Russia','Indus':'Pakistan'}\n",
    "for river,country in river.items():\n",
    "    print(\"The \"+river.upper()+\" runs through \"+country.upper() )    "
   ]
  },
  {
   "cell_type": "markdown",
   "metadata": {},
   "source": [
    "# Q15:"
   ]
  },
  {
   "cell_type": "markdown",
   "metadata": {},
   "source": [
    "Make several dictionaries, where the name of each dictionary is the\n",
    "name of a pet. In each dictionary, include the kind of animal and the owner’s\n",
    "name. Store these dictionaries in a list called pets. Next, loop through your list\n",
    "and as you do print everything you know about each pet."
   ]
  },
  {
   "cell_type": "code",
   "execution_count": 28,
   "metadata": {},
   "outputs": [
    {
     "name": "stdout",
     "output_type": "stream",
     "text": [
      "kind : Mammals\n",
      "owner's name : Ahmed\n",
      "\n",
      "kind : Mammals\n",
      "owner's name : john\n",
      "\n",
      "kind : Bird\n",
      "owner's name : Arsalan\n",
      "\n"
     ]
    }
   ],
   "source": [
    "cat = {'kind':'Mammals',\"owner's name\":'john'}\n",
    "\n",
    "dog = {'kind':'Mammals',\"owner's name\":'Ahmed'}\n",
    "\n",
    "parrot = {'kind':'Bird',\"owner's name\":'Arsalan'}\n",
    "\n",
    "pets = [dog,cat,parrot]\n",
    "\n",
    "\n",
    "for pet in pets:\n",
    "    for key,value in pet.items():\n",
    "        print(key+ \" : \" +value)\n",
    "    print()"
   ]
  }
 ],
 "metadata": {
  "kernelspec": {
   "display_name": "Python 3",
   "language": "python",
   "name": "python3"
  }
 },
 "nbformat": 4,
 "nbformat_minor": 2
}
