{
 "cells": [
  {
   "cell_type": "markdown",
   "metadata": {},
   "source": [
    "# 2nd class"
   ]
  },
  {
   "cell_type": "code",
   "execution_count": 1,
   "metadata": {},
   "outputs": [
    {
     "data": {
      "text/plain": [
       "5.0"
      ]
     },
     "execution_count": 1,
     "metadata": {},
     "output_type": "execute_result"
    }
   ],
   "source": [
    "45/9 #default is float"
   ]
  },
  {
   "cell_type": "code",
   "execution_count": 2,
   "metadata": {},
   "outputs": [
    {
     "data": {
      "text/plain": [
       "5"
      ]
     },
     "execution_count": 2,
     "metadata": {},
     "output_type": "execute_result"
    }
   ],
   "source": [
    "45//9 #integer division --discard decimal part"
   ]
  },
  {
   "cell_type": "code",
   "execution_count": 3,
   "metadata": {},
   "outputs": [
    {
     "data": {
      "text/plain": [
       "64"
      ]
     },
     "execution_count": 3,
     "metadata": {},
     "output_type": "execute_result"
    }
   ],
   "source": [
    "2**6"
   ]
  },
  {
   "cell_type": "code",
   "execution_count": 5,
   "metadata": {},
   "outputs": [
    {
     "data": {
      "text/plain": [
       "23"
      ]
     },
     "execution_count": 5,
     "metadata": {},
     "output_type": "execute_result"
    }
   ],
   "source": [
    "2*(1+1)**3+7"
   ]
  },
  {
   "cell_type": "code",
   "execution_count": 10,
   "metadata": {},
   "outputs": [
    {
     "data": {
      "text/plain": [
       "4"
      ]
     },
     "execution_count": 10,
     "metadata": {},
     "output_type": "execute_result"
    }
   ],
   "source": [
    "2+3//2+1"
   ]
  },
  {
   "cell_type": "markdown",
   "metadata": {},
   "source": [
    "# Math expression:Unifamiliar Operators"
   ]
  },
  {
   "cell_type": "code",
   "execution_count": 11,
   "metadata": {},
   "outputs": [
    {
     "data": {
      "text/plain": [
       "1"
      ]
     },
     "execution_count": 11,
     "metadata": {},
     "output_type": "execute_result"
    }
   ],
   "source": [
    "4%3"
   ]
  },
  {
   "cell_type": "code",
   "execution_count": 20,
   "metadata": {},
   "outputs": [],
   "source": [
    "x=124\n",
    "x=x+3"
   ]
  },
  {
   "cell_type": "code",
   "execution_count": 18,
   "metadata": {},
   "outputs": [
    {
     "data": {
      "text/plain": [
       "127"
      ]
     },
     "execution_count": 18,
     "metadata": {},
     "output_type": "execute_result"
    }
   ],
   "source": [
    "x"
   ]
  },
  {
   "cell_type": "code",
   "execution_count": 22,
   "metadata": {},
   "outputs": [
    {
     "data": {
      "text/plain": [
       "31.75"
      ]
     },
     "execution_count": 22,
     "metadata": {},
     "output_type": "execute_result"
    }
   ],
   "source": [
    "x/=2\n",
    "x"
   ]
  },
  {
   "cell_type": "code",
   "execution_count": 24,
   "metadata": {},
   "outputs": [
    {
     "data": {
      "text/plain": [
       "127.0"
      ]
     },
     "execution_count": 24,
     "metadata": {},
     "output_type": "execute_result"
    }
   ],
   "source": [
    "x*=2\n",
    "x"
   ]
  },
  {
   "cell_type": "markdown",
   "metadata": {},
   "source": [
    "# if statement "
   ]
  },
  {
   "cell_type": "code",
   "execution_count": 31,
   "metadata": {},
   "outputs": [
    {
     "data": {
      "text/plain": [
       "True"
      ]
     },
     "execution_count": 31,
     "metadata": {},
     "output_type": "execute_result"
    }
   ],
   "source": [
    "#checking condition\n",
    "a=2\n",
    "b=3\n",
    "a!=b"
   ]
  },
  {
   "cell_type": "code",
   "execution_count": 32,
   "metadata": {},
   "outputs": [
    {
     "data": {
      "text/plain": [
       "True"
      ]
     },
     "execution_count": 32,
     "metadata": {},
     "output_type": "execute_result"
    }
   ],
   "source": [
    "a!=b"
   ]
  },
  {
   "cell_type": "code",
   "execution_count": 38,
   "metadata": {},
   "outputs": [
    {
     "name": "stdout",
     "output_type": "stream",
     "text": [
      "enter a number5\n",
      "enter another number4\n",
      "{a} is greater than {b}\n",
      "{a} is greater than {b}\n",
      "{a} is greater than {b}\n"
     ]
    }
   ],
   "source": [
    "a=int(input (\"enter a number\"))\n",
    "b=int(input (\"enter another number\"))\n",
    "if a>b:\n",
    "    #this is called indentation.#same indent function body.\n",
    "    print(\"{a} is greater than {b}\")\n",
    "    print(\"{a} is greater than {b}\")\n",
    "    print(\"{a} is greater than {b}\")\n",
    "else:\n",
    "    print(\"{b} is greater than {a}\")\n",
    "    print(\"Else block is executing\")    \n",
    "\n",
    "    "
   ]
  },
  {
   "cell_type": "markdown",
   "metadata": {},
   "source": [
    "# Multiple ifs"
   ]
  },
  {
   "cell_type": "code",
   "execution_count": 45,
   "metadata": {},
   "outputs": [
    {
     "name": "stdout",
     "output_type": "stream",
     "text": [
      "enter age24\n",
      "your age is valid\n",
      "enter ticket statusyes\n",
      "your ticket is valid\n",
      "your are allowed\n"
     ]
    }
   ],
   "source": [
    "age=int(input(\"enter age\"))\n",
    "if age >= 18:\n",
    "    \n",
    "    print(\"your age is valid\")\n",
    "    ticket=input(\"enter ticket status\").lower()\n",
    "    if ticket =='yes':\n",
    "        print(\"your ticket is valid\")\n",
    "        print(\"your are allowed\")\n",
    "    else:\n",
    "            print(\"please buy ticket\")\n",
    "else:\n",
    "    print(\"you are not allowed\")\n",
    "        \n",
    "\n",
    "\n"
   ]
  },
  {
   "cell_type": "code",
   "execution_count": 56,
   "metadata": {},
   "outputs": [
    {
     "name": "stdout",
     "output_type": "stream",
     "text": [
      "you have cnic yes\n",
      "OK\n",
      "is your name in the list yes\n",
      "you are allowed\n"
     ]
    }
   ],
   "source": [
    "cnic=(input(\"you have cnic \"))\n",
    "if cnic== 'yes' :\n",
    "    print(\"OK\")\n",
    "    vlist=input(\"is your name in the list \")\n",
    "    if vlist =='yes':\n",
    "        print(\"you are allowed\")\n",
    "    else:\n",
    "            print(\"you are not allowed\")\n",
    "else:              \n",
    "    print(\"bring the cnic\")"
   ]
  },
  {
   "cell_type": "code",
   "execution_count": 58,
   "metadata": {},
   "outputs": [
    {
     "name": "stdout",
     "output_type": "stream",
     "text": [
      "you have cnic yes\n",
      "is your name in the list no\n",
      "you are allowed\n"
     ]
    }
   ],
   "source": [
    "cnic=(input(\"you have cnic \"))\n",
    "vlist=input(\"is your name in the list \")\n",
    "if cnic== 'yes' or vlist =='yes':\n",
    "    print(\"you are allowed\")\n",
    "else:\n",
    "    print(\"you are not allowed\")"
   ]
  },
  {
   "cell_type": "code",
   "execution_count": 67,
   "metadata": {},
   "outputs": [
    {
     "name": "stdout",
     "output_type": "stream",
     "text": [
      "enter first number:4\n",
      "enter second number:3\n",
      "Wapis check kare\n"
     ]
    }
   ],
   "source": [
    "a=int(input('enter first number:'))\n",
    "b=int(input('enter second number:'))\n",
    "if a== b:\n",
    "#elif a != b:\n",
    "print('All Is Well')\n",
    "else:\n",
    "    print('Wapis check kare')"
   ]
  },
  {
   "cell_type": "code",
   "execution_count": 70,
   "metadata": {},
   "outputs": [
    {
     "name": "stdout",
     "output_type": "stream",
     "text": [
      "you have license:yes\n",
      "you have cash:no\n",
      "chal nekal\n"
     ]
    }
   ],
   "source": [
    "license=(input('you have license:'))\n",
    "cash=(input('you have cash:'))\n",
    "if license=='yes' or cash=='yes':\n",
    "    print('chal nekal')\n",
    "else:\n",
    "    print('chal thane me')\n",
    " "
   ]
  },
  {
   "cell_type": "code",
   "execution_count": 69,
   "metadata": {},
   "outputs": [
    {
     "name": "stdout",
     "output_type": "stream",
     "text": [
      "you have license:yes\n",
      "you have cash:no\n",
      "chal thane me\n"
     ]
    }
   ],
   "source": [
    "license=(input('you have license:'))\n",
    "cash=(input('you have cash:'))\n",
    "if license=='yes' and cash=='yes':\n",
    "    print('chal nekal')\n",
    "else:\n",
    "    print('chal thane me')\n",
    " "
   ]
  },
  {
   "cell_type": "code",
   "execution_count": 77,
   "metadata": {},
   "outputs": [
    {
     "name": "stdout",
     "output_type": "stream",
     "text": [
      "you have license:no\n",
      "you have cash:no\n",
      "chal thane me\n"
     ]
    }
   ],
   "source": [
    "license=input('you have license:')#dkjis \n",
    "cash=input('you have cash:')\n",
    "if license=='yes':\n",
    "    print()\n",
    "elif cash=='yes':\n",
    "    print('chal nekal')\n",
    "else:\n",
    "\n",
    "    print('chal thane me')\n",
    "#  today  is ai class\n",
    "#  today  is ai class\n",
    "#  today  is ai class\n",
    "#  today  is ai class"
   ]
  },
  {
   "cell_type": "code",
   "execution_count": null,
   "metadata": {},
   "outputs": [],
   "source": []
  }
 ],
 "metadata": {
  "kernelspec": {
   "display_name": "Python 3",
   "language": "python",
   "name": "python3"
  },
  "language_info": {
   "codemirror_mode": {
    "name": "ipython",
    "version": 3
   },
   "file_extension": ".py",
   "mimetype": "text/x-python",
   "name": "python",
   "nbconvert_exporter": "python",
   "pygments_lexer": "ipython3",
   "version": "3.7.3"
  }
 },
 "nbformat": 4,
 "nbformat_minor": 2
}
